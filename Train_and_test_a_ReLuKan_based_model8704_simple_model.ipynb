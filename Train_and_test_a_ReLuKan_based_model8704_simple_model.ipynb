{
  "cells": [
    {
      "cell_type": "markdown",
      "metadata": {
        "id": "view-in-github",
        "colab_type": "text"
      },
      "source": [
        "<a href=\"https://colab.research.google.com/github/Lameuta/PlayAroundWithKanVision/blob/main/Train_and_test_a_ReLuKan_based_model8704_simple_model.ipynb\" target=\"_parent\"><img src=\"https://colab.research.google.com/assets/colab-badge.svg\" alt=\"Open In Colab\"/></a>"
      ]
    },
    {
      "cell_type": "code",
      "execution_count": 1,
      "id": "09b117af-f41d-4d51-8925-29e6c5565916",
      "metadata": {
        "id": "09b117af-f41d-4d51-8925-29e6c5565916"
      },
      "outputs": [],
      "source": [
        "import numpy as np\n",
        "import torch\n",
        "import torch.nn as nn\n",
        "from typing import List, Tuple, Union\n",
        "import torch.nn.functional as FU\n",
        "import math\n",
        "import matplotlib.pyplot as plt\n",
        "import tqdm\n",
        "from tqdm import tqdm\n",
        "import torch.optim as optim\n",
        "import torchvision\n",
        "import torchvision.transforms as transforms\n",
        "from torchvision.datasets import EMNIST\n",
        "from torch.utils.data import DataLoader, Dataset\n",
        "from torchvision import datasets\n",
        "from torchvision.transforms import ToTensor\n",
        "import os\n",
        "from PIL import Image\n",
        "from torchvision.datasets.imagenet import parse_devkit_archive, parse_train_archive, parse_val_archive"
      ]
    },
    {
      "cell_type": "code",
      "source": [
        "train_data = datasets.EMNIST(\n",
        "    root=\"data\", # where to download data to?\n",
        "    train=True, # get training data\n",
        "    download=True, # download data if it doesn't exist on disk\n",
        "    transform=ToTensor(), # images come as PIL format, we want to turn into Torch tensors\n",
        "    target_transform=None, # you can transform labels as well\n",
        "    split = \"balanced\"\n",
        ")\n",
        "\n",
        "# Setup testing data\n",
        "test_data = datasets.EMNIST(\n",
        "    root=\"data\",\n",
        "    train=False, # get test data\n",
        "    download=True,\n",
        "    transform=ToTensor(),\n",
        "    split= \"balanced\"\n",
        ")"
      ],
      "metadata": {
        "id": "5RSKEgHYnGop",
        "colab": {
          "base_uri": "https://localhost:8080/"
        },
        "outputId": "ae4ff2e5-abb4-4d7e-d6c1-d95e560a2c9e"
      },
      "id": "5RSKEgHYnGop",
      "execution_count": 2,
      "outputs": [
        {
          "output_type": "stream",
          "name": "stdout",
          "text": [
            "Downloading https://biometrics.nist.gov/cs_links/EMNIST/gzip.zip to data/EMNIST/raw/gzip.zip\n"
          ]
        },
        {
          "output_type": "stream",
          "name": "stderr",
          "text": [
            "100%|██████████| 561753746/561753746 [00:10<00:00, 55488417.19it/s]\n"
          ]
        },
        {
          "output_type": "stream",
          "name": "stdout",
          "text": [
            "Extracting data/EMNIST/raw/gzip.zip to data/EMNIST/raw\n"
          ]
        }
      ]
    },
    {
      "cell_type": "code",
      "execution_count": 3,
      "id": "341a8446-2fbe-4375-a396-c892bd50a86d",
      "metadata": {
        "id": "341a8446-2fbe-4375-a396-c892bd50a86d"
      },
      "outputs": [],
      "source": [
        "device = \"cuda\""
      ]
    },
    {
      "cell_type": "code",
      "execution_count": 4,
      "id": "giEmwf79s8d9",
      "metadata": {
        "id": "giEmwf79s8d9"
      },
      "outputs": [],
      "source": [
        "# Credits to: https://github.com/detkov/Convolution-From-Scratch/\n",
        "import torch\n",
        "import numpy as np\n",
        "from typing import List, Tuple, Union\n",
        "\n",
        "def calc_out_dims(matrix, kernel_side, stride, dilation, padding):\n",
        "    batch_size, n_channels, n, m = matrix.shape\n",
        "    h_out = np.floor((n + 2 * padding[0] - kernel_side - (kernel_side - 1) * (dilation[0] - 1)) / stride[0]).astype(int) + 1\n",
        "    w_out = np.floor((m + 2 * padding[1] - kernel_side - (kernel_side - 1) * (dilation[1] - 1)) / stride[1]).astype(int) + 1\n",
        "    return h_out, w_out, batch_size, n_channels\n",
        "\n",
        "def kan_conv2d(matrix: torch.Tensor,\n",
        "               kernel,\n",
        "               kernel_side: int,\n",
        "               stride: Tuple[int, int] = (1, 1),\n",
        "               dilation: Tuple[int, int] = (1, 1),\n",
        "               padding: Tuple[int, int] = (0, 0),\n",
        "               device: str = \"cuda\") -> torch.Tensor:\n",
        "    \"\"\"Performs a 2D convolution with the kernel over the matrix using defined stride, dilation, and padding along axes.\n",
        "\n",
        "    Args:\n",
        "        matrix (torch.Tensor): 4D tensor to be convolved (batch_size, channels, height, width).\n",
        "        kernel (function): Function representing the convolution kernel.\n",
        "        kernel_side (int): Size of the kernel (assumed to be square).\n",
        "        stride (Tuple[int, int], optional): Stride along axes. Defaults to (1, 1).\n",
        "        dilation (Tuple[int, int], optional): Dilation along axes. Defaults to (1, 1).\n",
        "        padding (Tuple[int, int], optional): Padding along axes. Defaults to (0, 0).\n",
        "        device (str, optional): Device to perform computation on. Defaults to \"cuda\".\n",
        "\n",
        "    Returns:\n",
        "        torch.Tensor: 4D tensor after convolution.\n",
        "    \"\"\"\n",
        "    h_out, w_out, batch_size, n_channels = calc_out_dims(matrix, kernel_side, stride, dilation, padding)\n",
        "    matrix_out = torch.zeros((batch_size, n_channels, h_out, w_out)).to(device)\n",
        "    unfold = torch.nn.Unfold((kernel_side, kernel_side), dilation=dilation, padding=padding, stride=stride)\n",
        "\n",
        "    for channel in range(n_channels):\n",
        "        conv_groups = unfold(matrix[:, channel, :, :].unsqueeze(1)).transpose(1, 2)\n",
        "        for k in range(batch_size):\n",
        "            matrix_out[k, channel, :, :] = kernel(conv_groups[k, :, :]).reshape((h_out, w_out))\n",
        "    return matrix_out\n",
        "\n",
        "def multiple_convs_kan_conv2d(matrix: torch.Tensor,\n",
        "                              kernels: List[callable],\n",
        "                              kernel_side: int,\n",
        "                              stride: Tuple[int, int] = (1, 1),\n",
        "                              dilation: Tuple[int, int] = (1, 1),\n",
        "                              padding: Tuple[int, int] = (0, 0),\n",
        "                              device: str = \"cuda\") -> torch.Tensor:\n",
        "    \"\"\"Performs multiple 2D convolutions with different kernels over the matrix using defined stride, dilation, and padding along axes.\n",
        "\n",
        "    Args:\n",
        "        matrix (torch.Tensor): 4D tensor to be convolved (batch_size, channels, height, width).\n",
        "        kernels (List[callable]): List of functions representing the convolution kernels.\n",
        "        kernel_side (int): Size of the kernels (assumed to be square).\n",
        "        stride (Tuple[int, int], optional): Stride along axes. Defaults to (1, 1).\n",
        "        dilation (Tuple[int, int], optional): Dilation along axes. Defaults to (1, 1).\n",
        "        padding (Tuple[int, int], optional): Padding along axes. Defaults to (0, 0).\n",
        "        device (str, optional): Device to perform computation on. Defaults to \"cuda\".\n",
        "\n",
        "    Returns:\n",
        "        torch.Tensor: 4D tensor after multiple convolutions.\n",
        "    \"\"\"\n",
        "    h_out, w_out, batch_size, n_channels = calc_out_dims(matrix, kernel_side, stride, dilation, padding)\n",
        "    n_convs = len(kernels)\n",
        "    matrix_out = torch.zeros((batch_size, n_channels * n_convs, h_out, w_out)).to(device)\n",
        "\n",
        "    for i, kernel in enumerate(kernels):\n",
        "        conv_result = kan_conv2d(matrix, kernel, kernel_side, stride, dilation, padding, device)\n",
        "        matrix_out[:, i * n_channels:(i + 1) * n_channels, :, :] = conv_result\n",
        "    return matrix_out\n"
      ]
    },
    {
      "cell_type": "code",
      "execution_count": 5,
      "id": "d5b074eb-f887-41f2-8d0d-2d7dce191670",
      "metadata": {
        "id": "d5b074eb-f887-41f2-8d0d-2d7dce191670"
      },
      "outputs": [],
      "source": [
        "\n",
        "class ConvReLUKANLayer(nn.Module):\n",
        "    def __init__(self,\n",
        "                 in_channels: int,\n",
        "                 out_channels: int,\n",
        "                 g: int,\n",
        "                 k: int,\n",
        "                 n_convs: int = 1,\n",
        "                 kernel_size: tuple = (3, 3),\n",
        "                 stride: tuple = (1, 1),\n",
        "                 padding: tuple = (1, 1),\n",
        "                 dilation: tuple = (1, 1)):\n",
        "        super(ConvReLUKANLayer, self).__init__()\n",
        "        self.in_channels = in_channels\n",
        "        self.out_channels = out_channels\n",
        "        self.g = g\n",
        "        self.k = k\n",
        "        self.n_convs = n_convs\n",
        "        self.kernel_size = kernel_size\n",
        "        self.stride = stride\n",
        "        self.padding = padding\n",
        "        self.dilation = dilation\n",
        "\n",
        "        # Initialize the start (S) and end (E) matrices as trainable parameters\n",
        "        self.S = nn.Parameter(torch.linspace(0, 1, g + k).repeat(in_channels, 1))\n",
        "        self.E = nn.Parameter(torch.linspace(0, 1, g + k).repeat(in_channels, 1))\n",
        "\n",
        "        # Initialize the convolution layers\n",
        "        self.convs = nn.ModuleList([\n",
        "            nn.Conv2d(in_channels if i == 0 else out_channels, out_channels, kernel_size, stride, padding, dilation)\n",
        "            for i in range(n_convs)\n",
        "        ])\n",
        "\n",
        "        # Weight matrix Wc for the final convolution step\n",
        "        self.Wc = nn.Parameter(torch.randn(out_channels, g + k))\n",
        "\n",
        "        # Normalization constant r\n",
        "        self.r = 16 * g ** 4 / (k + 1) ** 4\n",
        "\n",
        "    def forward(self, x):\n",
        "      self.device = x.device\n",
        "      if self.n_convs>1:\n",
        "          return multiple_convs_kan_conv2d(x, self.convs,self.kernel_size[0],self.stride,self.dilation,self.padding,self.device)\n",
        "\n",
        "        # If there is only one convolution, apply it\n",
        "      return self.convs[0].forward(x)\n",
        "\n",
        "\n"
      ]
    },
    {
      "cell_type": "code",
      "execution_count": 21,
      "id": "d4ce9268-d80a-46f2-8f28-87e4b298375c",
      "metadata": {
        "id": "d4ce9268-d80a-46f2-8f28-87e4b298375c"
      },
      "outputs": [],
      "source": [
        "class ConvReLUKAN(nn.Module):\n",
        "    def __init__(self):\n",
        "        super().__init__()\n",
        "        self.layer1 = ConvReLUKANLayer(in_channels=1, out_channels=32, g=5, k=3, n_convs=1)\n",
        "        self.layer2 = ConvReLUKANLayer(in_channels=32, out_channels=32, g=5, k=3, n_convs=1)\n",
        "        self.layer3 = ConvReLUKANLayer(in_channels=32, out_channels=32, g=5, k=3, n_convs=1)\n",
        "        self.layer4 = ConvReLUKANLayer(in_channels=32, out_channels=64, g=5, k=3, n_convs=1)\n",
        "\n",
        "        # Final fully connected layer to produce 4 output classes\n",
        "        self.pool1 = nn.MaxPool2d(\n",
        "            kernel_size=(2, 2)\n",
        "        )\n",
        "\n",
        "        self.flat = nn.Flatten()\n",
        "        # Adjust the in_features based on the size of the flattened output\n",
        "        self.linear1 = nn.Linear(64, 64)\n",
        "        self.linear2 = nn.Linear(64, 47)\n",
        "\n",
        "    def forward(self, x):\n",
        "        x = self.layer1(x)\n",
        "        x= self.pool1(x)\n",
        "        x = self.layer2(x)\n",
        "        x = self.pool1(x)\n",
        "\n",
        "        x = self.layer3(x)\n",
        "        x = self.pool1(x)\n",
        "\n",
        "        x = self.layer4(x)\n",
        "        x = self.pool1(x)\n",
        "\n",
        "        x = self.flat(x)\n",
        "        x = self.linear1(x)\n",
        "        x = self.linear2(x)\n",
        "        x = FU.log_softmax(x, dim=1)\n",
        "        return x"
      ]
    },
    {
      "cell_type": "code",
      "execution_count": 13,
      "id": "6affb931-8056-45d2-8ef0-12059b242aeb",
      "metadata": {
        "id": "6affb931-8056-45d2-8ef0-12059b242aeb"
      },
      "outputs": [],
      "source": [
        "def train_and_test(model, train_loader, test_loader, num_epochs, device, save_path='7layersrelukan16g4k.pth'):\n",
        "    # Loss Function and Optimizer\n",
        "    criterion = nn.CrossEntropyLoss()\n",
        "    optimizer = optim.Adam(model.parameters(), lr=0.0003)\n",
        "\n",
        "    best_test_accuracy = 0.0  # Track the best test accuracy\n",
        "\n",
        "    for epoch in range(num_epochs):\n",
        "        # Training Phase\n",
        "        model.train()\n",
        "        running_loss = 0.0\n",
        "        correct_train = 0\n",
        "        total_train = 0\n",
        "\n",
        "        for inputs, labels in tqdm(train_loader, desc=f'Epoch {epoch+1}/{num_epochs} - Training'):\n",
        "            inputs, labels = inputs.to(device), labels.to(device)\n",
        "\n",
        "            optimizer.zero_grad()\n",
        "            outputs = model(inputs)\n",
        "            loss = criterion(outputs, labels)\n",
        "            loss.backward()\n",
        "            optimizer.step()\n",
        "\n",
        "            running_loss += loss.item() * inputs.size(0)\n",
        "            _, predicted = torch.max(outputs, 1)\n",
        "            total_train += labels.size(0)\n",
        "            correct_train += (predicted == labels).sum().item()\n",
        "\n",
        "        train_loss = running_loss / total_train\n",
        "        train_accuracy = correct_train / total_train\n",
        "\n",
        "        # Testing/Validation Phase\n",
        "        model.eval()\n",
        "        running_loss = 0.0\n",
        "        correct_test = 0\n",
        "        total_test = 0\n",
        "\n",
        "        with torch.no_grad():\n",
        "            for inputs, labels in tqdm(test_loader, desc=f'Epoch {epoch+1}/{num_epochs} - Testing'):\n",
        "                inputs, labels = inputs.to(device), labels.to(device)\n",
        "\n",
        "                outputs = model(inputs)\n",
        "                loss = criterion(outputs, labels)\n",
        "\n",
        "                running_loss += loss.item() * inputs.size(0)\n",
        "                _, predicted = torch.max(outputs, 1)\n",
        "                total_test += labels.size(0)\n",
        "                correct_test += (predicted == labels).sum().item()\n",
        "\n",
        "        test_loss = running_loss / total_test\n",
        "        test_accuracy = correct_test / total_test\n",
        "\n",
        "        # Print Results After Each Epoch\n",
        "        print(f'Epoch {epoch+1}/{num_epochs}')\n",
        "        print(f'Train Loss: {train_loss:.4f}, Train Accuracy: {train_accuracy:.4f}')\n",
        "        print(f'Test Loss: {test_loss:.4f}, Test Accuracy: {test_accuracy:.4f}\\n')\n",
        "\n",
        "        # Save the model if it has the best test accuracy\n",
        "        if test_accuracy > best_test_accuracy:\n",
        "            best_test_accuracy = test_accuracy\n",
        "            torch.save(model.state_dict(), save_path)\n",
        "            print(f'Best model saved with test accuracy: {best_test_accuracy:.4f}\\n')"
      ]
    },
    {
      "cell_type": "code",
      "execution_count": 8,
      "id": "d7543a47-1f38-42d2-9b36-50acd6f0601d",
      "metadata": {
        "id": "d7543a47-1f38-42d2-9b36-50acd6f0601d"
      },
      "outputs": [],
      "source": [
        "class MyDataset(Dataset):\n",
        "    def __init__(self, root_dir, transform=None):\n",
        "        self.root_dir = root_dir\n",
        "        self.transform = transform\n",
        "        self.image_paths = []\n",
        "        self.labels = []\n",
        "\n",
        "        # Assuming the structure: root_dir/class_name/image_name.jpg\n",
        "        for class_name in os.listdir(root_dir):\n",
        "            class_dir = os.path.join(root_dir, class_name)\n",
        "            if os.path.isdir(class_dir):\n",
        "                for img_name in os.listdir(class_dir):\n",
        "                    img_path = os.path.join(class_dir, img_name)\n",
        "                    self.image_paths.append(img_path)\n",
        "                    self.labels.append(class_name)\n",
        "\n",
        "        # Encode labels as integers if needed\n",
        "        self.class_to_idx = {cls_name: idx for idx, cls_name in enumerate(sorted(set(self.labels)))}\n",
        "        self.labels = [self.class_to_idx[label] for label in self.labels]\n",
        "\n",
        "    def __len__(self):\n",
        "        return len(self.image_paths)\n",
        "\n",
        "    def __getitem__(self, idx):\n",
        "        img_path = self.image_paths[idx]\n",
        "        image = Image.open(img_path)  # Convert to grayscale\n",
        "        label = self.labels[idx]\n",
        "\n",
        "        if self.transform:\n",
        "            image = self.transform(image)\n",
        "\n",
        "        return image, label\n"
      ]
    },
    {
      "cell_type": "code",
      "execution_count": 9,
      "id": "c824b588-c994-4826-ad1b-69def92183c5",
      "metadata": {
        "id": "c824b588-c994-4826-ad1b-69def92183c5"
      },
      "outputs": [],
      "source": [
        "transform = transforms.Compose([\n",
        "    transforms.Resize((32, 32)),\n",
        "    transforms.ToTensor(),\n",
        "    transforms.Normalize(mean=[0.5, 0.5, 0.5], std=[0.5, 0.5, 0.5])\n",
        "])"
      ]
    },
    {
      "cell_type": "code",
      "execution_count": 10,
      "id": "BZsLejiTjhJv",
      "metadata": {
        "id": "BZsLejiTjhJv",
        "colab": {
          "base_uri": "https://localhost:8080/"
        },
        "outputId": "940ea67c-8575-46f9-9cda-c0ff5c4b2ab0"
      },
      "outputs": [
        {
          "output_type": "stream",
          "name": "stdout",
          "text": [
            "Dataloaders: (<torch.utils.data.dataloader.DataLoader object at 0x7872d3c66920>, <torch.utils.data.dataloader.DataLoader object at 0x7872d3c67af0>)\n",
            "Length of train dataloader: 221 batches of 512\n",
            "Length of test dataloader: 37 batches of 512\n"
          ]
        }
      ],
      "source": [
        "from torch.utils.data import DataLoader\n",
        "\n",
        "# Setup the batch size hyperparameter\n",
        "BATCH_SIZE = 512\n",
        "\n",
        "# Turn datasets into iterables (batches)\n",
        "train_dataloader = DataLoader(train_data, # dataset to turn into iterable\n",
        "    batch_size=BATCH_SIZE, # how many samples per batch?\n",
        "    shuffle=True # shuffle data every epoch?\n",
        ")\n",
        "\n",
        "test_dataloader = DataLoader(test_data,\n",
        "    batch_size=BATCH_SIZE,\n",
        "    shuffle=False # don't necessarily have to shuffle the testing data\n",
        ")\n",
        "\n",
        "# Let's check out what we've created\n",
        "print(f\"Dataloaders: {train_dataloader, test_dataloader}\")\n",
        "print(f\"Length of train dataloader: {len(train_dataloader)} batches of {BATCH_SIZE}\")\n",
        "print(f\"Length of test dataloader: {len(test_dataloader)} batches of {BATCH_SIZE}\")"
      ]
    },
    {
      "cell_type": "code",
      "execution_count": 22,
      "id": "cb65fee2-589b-48d4-b6e5-6231123968e9",
      "metadata": {
        "colab": {
          "base_uri": "https://localhost:8080/"
        },
        "id": "cb65fee2-589b-48d4-b6e5-6231123968e9",
        "outputId": "afe4f8dd-c000-4dee-d49c-2247e08802ad"
      },
      "outputs": [
        {
          "output_type": "stream",
          "name": "stdout",
          "text": [
            "cuda\n"
          ]
        },
        {
          "output_type": "stream",
          "name": "stderr",
          "text": [
            "Epoch 1/50 - Training: 100%|██████████| 221/221 [00:17<00:00, 12.55it/s]\n",
            "Epoch 1/50 - Testing: 100%|██████████| 37/37 [00:02<00:00, 17.74it/s]\n"
          ]
        },
        {
          "output_type": "stream",
          "name": "stdout",
          "text": [
            "Epoch 1/50\n",
            "Train Loss: 2.3881, Train Accuracy: 0.3592\n",
            "Test Loss: 1.3269, Test Accuracy: 0.6161\n",
            "\n",
            "Best model saved with test accuracy: 0.6161\n",
            "\n"
          ]
        },
        {
          "output_type": "stream",
          "name": "stderr",
          "text": [
            "Epoch 2/50 - Training: 100%|██████████| 221/221 [00:15<00:00, 13.82it/s]\n",
            "Epoch 2/50 - Testing: 100%|██████████| 37/37 [00:02<00:00, 17.09it/s]\n"
          ]
        },
        {
          "output_type": "stream",
          "name": "stdout",
          "text": [
            "Epoch 2/50\n",
            "Train Loss: 1.0778, Train Accuracy: 0.6775\n",
            "Test Loss: 0.9247, Test Accuracy: 0.7222\n",
            "\n",
            "Best model saved with test accuracy: 0.7222\n",
            "\n"
          ]
        },
        {
          "output_type": "stream",
          "name": "stderr",
          "text": [
            "Epoch 3/50 - Training: 100%|██████████| 221/221 [00:17<00:00, 12.48it/s]\n",
            "Epoch 3/50 - Testing: 100%|██████████| 37/37 [00:02<00:00, 16.73it/s]\n"
          ]
        },
        {
          "output_type": "stream",
          "name": "stdout",
          "text": [
            "Epoch 3/50\n",
            "Train Loss: 0.8170, Train Accuracy: 0.7470\n",
            "Test Loss: 0.7666, Test Accuracy: 0.7633\n",
            "\n",
            "Best model saved with test accuracy: 0.7633\n",
            "\n"
          ]
        },
        {
          "output_type": "stream",
          "name": "stderr",
          "text": [
            "Epoch 4/50 - Training: 100%|██████████| 221/221 [00:16<00:00, 13.52it/s]\n",
            "Epoch 4/50 - Testing: 100%|██████████| 37/37 [00:02<00:00, 14.69it/s]\n"
          ]
        },
        {
          "output_type": "stream",
          "name": "stdout",
          "text": [
            "Epoch 4/50\n",
            "Train Loss: 0.7005, Train Accuracy: 0.7790\n",
            "Test Loss: 0.7078, Test Accuracy: 0.7723\n",
            "\n",
            "Best model saved with test accuracy: 0.7723\n",
            "\n"
          ]
        },
        {
          "output_type": "stream",
          "name": "stderr",
          "text": [
            "Epoch 5/50 - Training: 100%|██████████| 221/221 [00:16<00:00, 13.48it/s]\n",
            "Epoch 5/50 - Testing: 100%|██████████| 37/37 [00:02<00:00, 16.81it/s]\n"
          ]
        },
        {
          "output_type": "stream",
          "name": "stdout",
          "text": [
            "Epoch 5/50\n",
            "Train Loss: 0.6300, Train Accuracy: 0.7984\n",
            "Test Loss: 0.6434, Test Accuracy: 0.7971\n",
            "\n",
            "Best model saved with test accuracy: 0.7971\n",
            "\n"
          ]
        },
        {
          "output_type": "stream",
          "name": "stderr",
          "text": [
            "Epoch 6/50 - Training: 100%|██████████| 221/221 [00:16<00:00, 13.59it/s]\n",
            "Epoch 6/50 - Testing: 100%|██████████| 37/37 [00:02<00:00, 13.60it/s]\n"
          ]
        },
        {
          "output_type": "stream",
          "name": "stdout",
          "text": [
            "Epoch 6/50\n",
            "Train Loss: 0.5844, Train Accuracy: 0.8110\n",
            "Test Loss: 0.5980, Test Accuracy: 0.8061\n",
            "\n",
            "Best model saved with test accuracy: 0.8061\n",
            "\n"
          ]
        },
        {
          "output_type": "stream",
          "name": "stderr",
          "text": [
            "Epoch 7/50 - Training: 100%|██████████| 221/221 [00:16<00:00, 13.52it/s]\n",
            "Epoch 7/50 - Testing: 100%|██████████| 37/37 [00:02<00:00, 17.03it/s]\n"
          ]
        },
        {
          "output_type": "stream",
          "name": "stdout",
          "text": [
            "Epoch 7/50\n",
            "Train Loss: 0.5513, Train Accuracy: 0.8202\n",
            "Test Loss: 0.5723, Test Accuracy: 0.8154\n",
            "\n",
            "Best model saved with test accuracy: 0.8154\n",
            "\n"
          ]
        },
        {
          "output_type": "stream",
          "name": "stderr",
          "text": [
            "Epoch 8/50 - Training: 100%|██████████| 221/221 [00:16<00:00, 13.54it/s]\n",
            "Epoch 8/50 - Testing: 100%|██████████| 37/37 [00:02<00:00, 12.60it/s]\n"
          ]
        },
        {
          "output_type": "stream",
          "name": "stdout",
          "text": [
            "Epoch 8/50\n",
            "Train Loss: 0.5222, Train Accuracy: 0.8282\n",
            "Test Loss: 0.5613, Test Accuracy: 0.8164\n",
            "\n",
            "Best model saved with test accuracy: 0.8164\n",
            "\n"
          ]
        },
        {
          "output_type": "stream",
          "name": "stderr",
          "text": [
            "Epoch 9/50 - Training: 100%|██████████| 221/221 [00:16<00:00, 13.50it/s]\n",
            "Epoch 9/50 - Testing: 100%|██████████| 37/37 [00:02<00:00, 16.93it/s]\n"
          ]
        },
        {
          "output_type": "stream",
          "name": "stdout",
          "text": [
            "Epoch 9/50\n",
            "Train Loss: 0.5010, Train Accuracy: 0.8343\n",
            "Test Loss: 0.5309, Test Accuracy: 0.8284\n",
            "\n",
            "Best model saved with test accuracy: 0.8284\n",
            "\n"
          ]
        },
        {
          "output_type": "stream",
          "name": "stderr",
          "text": [
            "Epoch 10/50 - Training: 100%|██████████| 221/221 [00:16<00:00, 13.54it/s]\n",
            "Epoch 10/50 - Testing: 100%|██████████| 37/37 [00:02<00:00, 13.33it/s]\n"
          ]
        },
        {
          "output_type": "stream",
          "name": "stdout",
          "text": [
            "Epoch 10/50\n",
            "Train Loss: 0.4827, Train Accuracy: 0.8388\n",
            "Test Loss: 0.5201, Test Accuracy: 0.8298\n",
            "\n",
            "Best model saved with test accuracy: 0.8298\n",
            "\n"
          ]
        },
        {
          "output_type": "stream",
          "name": "stderr",
          "text": [
            "Epoch 11/50 - Training: 100%|██████████| 221/221 [00:16<00:00, 13.59it/s]\n",
            "Epoch 11/50 - Testing: 100%|██████████| 37/37 [00:02<00:00, 16.95it/s]\n"
          ]
        },
        {
          "output_type": "stream",
          "name": "stdout",
          "text": [
            "Epoch 11/50\n",
            "Train Loss: 0.4676, Train Accuracy: 0.8435\n",
            "Test Loss: 0.5015, Test Accuracy: 0.8362\n",
            "\n",
            "Best model saved with test accuracy: 0.8362\n",
            "\n"
          ]
        },
        {
          "output_type": "stream",
          "name": "stderr",
          "text": [
            "Epoch 12/50 - Training: 100%|██████████| 221/221 [00:16<00:00, 13.37it/s]\n",
            "Epoch 12/50 - Testing: 100%|██████████| 37/37 [00:02<00:00, 13.81it/s]\n"
          ]
        },
        {
          "output_type": "stream",
          "name": "stdout",
          "text": [
            "Epoch 12/50\n",
            "Train Loss: 0.4514, Train Accuracy: 0.8488\n",
            "Test Loss: 0.4918, Test Accuracy: 0.8381\n",
            "\n",
            "Best model saved with test accuracy: 0.8381\n",
            "\n"
          ]
        },
        {
          "output_type": "stream",
          "name": "stderr",
          "text": [
            "Epoch 13/50 - Training: 100%|██████████| 221/221 [00:16<00:00, 13.67it/s]\n",
            "Epoch 13/50 - Testing: 100%|██████████| 37/37 [00:02<00:00, 17.17it/s]\n"
          ]
        },
        {
          "output_type": "stream",
          "name": "stdout",
          "text": [
            "Epoch 13/50\n",
            "Train Loss: 0.4406, Train Accuracy: 0.8513\n",
            "Test Loss: 0.4791, Test Accuracy: 0.8388\n",
            "\n",
            "Best model saved with test accuracy: 0.8388\n",
            "\n"
          ]
        },
        {
          "output_type": "stream",
          "name": "stderr",
          "text": [
            "Epoch 14/50 - Training: 100%|██████████| 221/221 [00:16<00:00, 13.24it/s]\n",
            "Epoch 14/50 - Testing: 100%|██████████| 37/37 [00:02<00:00, 15.21it/s]\n"
          ]
        },
        {
          "output_type": "stream",
          "name": "stdout",
          "text": [
            "Epoch 14/50\n",
            "Train Loss: 0.4300, Train Accuracy: 0.8546\n",
            "Test Loss: 0.4759, Test Accuracy: 0.8432\n",
            "\n",
            "Best model saved with test accuracy: 0.8432\n",
            "\n"
          ]
        },
        {
          "output_type": "stream",
          "name": "stderr",
          "text": [
            "Epoch 15/50 - Training: 100%|██████████| 221/221 [00:17<00:00, 12.99it/s]\n",
            "Epoch 15/50 - Testing: 100%|██████████| 37/37 [00:02<00:00, 17.06it/s]\n"
          ]
        },
        {
          "output_type": "stream",
          "name": "stdout",
          "text": [
            "Epoch 15/50\n",
            "Train Loss: 0.4210, Train Accuracy: 0.8567\n",
            "Test Loss: 0.4573, Test Accuracy: 0.8469\n",
            "\n",
            "Best model saved with test accuracy: 0.8469\n",
            "\n"
          ]
        },
        {
          "output_type": "stream",
          "name": "stderr",
          "text": [
            "Epoch 16/50 - Training: 100%|██████████| 221/221 [00:16<00:00, 13.21it/s]\n",
            "Epoch 16/50 - Testing: 100%|██████████| 37/37 [00:02<00:00, 17.28it/s]\n"
          ]
        },
        {
          "output_type": "stream",
          "name": "stdout",
          "text": [
            "Epoch 16/50\n",
            "Train Loss: 0.4129, Train Accuracy: 0.8590\n",
            "Test Loss: 0.4538, Test Accuracy: 0.8491\n",
            "\n",
            "Best model saved with test accuracy: 0.8491\n",
            "\n"
          ]
        },
        {
          "output_type": "stream",
          "name": "stderr",
          "text": [
            "Epoch 17/50 - Training: 100%|██████████| 221/221 [00:16<00:00, 13.70it/s]\n",
            "Epoch 17/50 - Testing: 100%|██████████| 37/37 [00:02<00:00, 16.98it/s]\n"
          ]
        },
        {
          "output_type": "stream",
          "name": "stdout",
          "text": [
            "Epoch 17/50\n",
            "Train Loss: 0.4068, Train Accuracy: 0.8605\n",
            "Test Loss: 0.4441, Test Accuracy: 0.8491\n",
            "\n"
          ]
        },
        {
          "output_type": "stream",
          "name": "stderr",
          "text": [
            "Epoch 18/50 - Training: 100%|██████████| 221/221 [00:17<00:00, 12.99it/s]\n",
            "Epoch 18/50 - Testing: 100%|██████████| 37/37 [00:02<00:00, 16.94it/s]\n"
          ]
        },
        {
          "output_type": "stream",
          "name": "stdout",
          "text": [
            "Epoch 18/50\n",
            "Train Loss: 0.3965, Train Accuracy: 0.8640\n",
            "Test Loss: 0.4431, Test Accuracy: 0.8499\n",
            "\n",
            "Best model saved with test accuracy: 0.8499\n",
            "\n"
          ]
        },
        {
          "output_type": "stream",
          "name": "stderr",
          "text": [
            "Epoch 19/50 - Training: 100%|██████████| 221/221 [00:16<00:00, 13.53it/s]\n",
            "Epoch 19/50 - Testing: 100%|██████████| 37/37 [00:02<00:00, 16.90it/s]\n"
          ]
        },
        {
          "output_type": "stream",
          "name": "stdout",
          "text": [
            "Epoch 19/50\n",
            "Train Loss: 0.3923, Train Accuracy: 0.8633\n",
            "Test Loss: 0.4390, Test Accuracy: 0.8495\n",
            "\n"
          ]
        },
        {
          "output_type": "stream",
          "name": "stderr",
          "text": [
            "Epoch 20/50 - Training: 100%|██████████| 221/221 [00:16<00:00, 13.60it/s]\n",
            "Epoch 20/50 - Testing: 100%|██████████| 37/37 [00:02<00:00, 17.61it/s]\n"
          ]
        },
        {
          "output_type": "stream",
          "name": "stdout",
          "text": [
            "Epoch 20/50\n",
            "Train Loss: 0.3850, Train Accuracy: 0.8672\n",
            "Test Loss: 0.4263, Test Accuracy: 0.8560\n",
            "\n",
            "Best model saved with test accuracy: 0.8560\n",
            "\n"
          ]
        },
        {
          "output_type": "stream",
          "name": "stderr",
          "text": [
            "Epoch 21/50 - Training: 100%|██████████| 221/221 [00:15<00:00, 13.87it/s]\n",
            "Epoch 21/50 - Testing: 100%|██████████| 37/37 [00:02<00:00, 17.17it/s]\n"
          ]
        },
        {
          "output_type": "stream",
          "name": "stdout",
          "text": [
            "Epoch 21/50\n",
            "Train Loss: 0.3792, Train Accuracy: 0.8690\n",
            "Test Loss: 0.4231, Test Accuracy: 0.8552\n",
            "\n"
          ]
        },
        {
          "output_type": "stream",
          "name": "stderr",
          "text": [
            "Epoch 22/50 - Training: 100%|██████████| 221/221 [00:16<00:00, 13.20it/s]\n",
            "Epoch 22/50 - Testing: 100%|██████████| 37/37 [00:02<00:00, 17.04it/s]\n"
          ]
        },
        {
          "output_type": "stream",
          "name": "stdout",
          "text": [
            "Epoch 22/50\n",
            "Train Loss: 0.3736, Train Accuracy: 0.8707\n",
            "Test Loss: 0.4290, Test Accuracy: 0.8560\n",
            "\n"
          ]
        },
        {
          "output_type": "stream",
          "name": "stderr",
          "text": [
            "Epoch 23/50 - Training: 100%|██████████| 221/221 [00:16<00:00, 13.63it/s]\n",
            "Epoch 23/50 - Testing: 100%|██████████| 37/37 [00:02<00:00, 16.85it/s]\n"
          ]
        },
        {
          "output_type": "stream",
          "name": "stdout",
          "text": [
            "Epoch 23/50\n",
            "Train Loss: 0.3691, Train Accuracy: 0.8712\n",
            "Test Loss: 0.4224, Test Accuracy: 0.8555\n",
            "\n"
          ]
        },
        {
          "output_type": "stream",
          "name": "stderr",
          "text": [
            "Epoch 24/50 - Training: 100%|██████████| 221/221 [00:16<00:00, 13.12it/s]\n",
            "Epoch 24/50 - Testing: 100%|██████████| 37/37 [00:02<00:00, 17.10it/s]\n"
          ]
        },
        {
          "output_type": "stream",
          "name": "stdout",
          "text": [
            "Epoch 24/50\n",
            "Train Loss: 0.3653, Train Accuracy: 0.8723\n",
            "Test Loss: 0.4228, Test Accuracy: 0.8564\n",
            "\n",
            "Best model saved with test accuracy: 0.8564\n",
            "\n"
          ]
        },
        {
          "output_type": "stream",
          "name": "stderr",
          "text": [
            "Epoch 25/50 - Training: 100%|██████████| 221/221 [00:16<00:00, 13.67it/s]\n",
            "Epoch 25/50 - Testing: 100%|██████████| 37/37 [00:02<00:00, 16.35it/s]\n"
          ]
        },
        {
          "output_type": "stream",
          "name": "stdout",
          "text": [
            "Epoch 25/50\n",
            "Train Loss: 0.3607, Train Accuracy: 0.8740\n",
            "Test Loss: 0.4224, Test Accuracy: 0.8586\n",
            "\n",
            "Best model saved with test accuracy: 0.8586\n",
            "\n"
          ]
        },
        {
          "output_type": "stream",
          "name": "stderr",
          "text": [
            "Epoch 26/50 - Training: 100%|██████████| 221/221 [00:16<00:00, 13.26it/s]\n",
            "Epoch 26/50 - Testing: 100%|██████████| 37/37 [00:02<00:00, 17.23it/s]\n"
          ]
        },
        {
          "output_type": "stream",
          "name": "stdout",
          "text": [
            "Epoch 26/50\n",
            "Train Loss: 0.3574, Train Accuracy: 0.8751\n",
            "Test Loss: 0.4104, Test Accuracy: 0.8615\n",
            "\n",
            "Best model saved with test accuracy: 0.8615\n",
            "\n"
          ]
        },
        {
          "output_type": "stream",
          "name": "stderr",
          "text": [
            "Epoch 27/50 - Training: 100%|██████████| 221/221 [00:16<00:00, 13.52it/s]\n",
            "Epoch 27/50 - Testing: 100%|██████████| 37/37 [00:02<00:00, 15.32it/s]\n"
          ]
        },
        {
          "output_type": "stream",
          "name": "stdout",
          "text": [
            "Epoch 27/50\n",
            "Train Loss: 0.3525, Train Accuracy: 0.8766\n",
            "Test Loss: 0.4129, Test Accuracy: 0.8590\n",
            "\n"
          ]
        },
        {
          "output_type": "stream",
          "name": "stderr",
          "text": [
            "Epoch 28/50 - Training: 100%|██████████| 221/221 [00:17<00:00, 12.59it/s]\n",
            "Epoch 28/50 - Testing: 100%|██████████| 37/37 [00:02<00:00, 16.74it/s]\n"
          ]
        },
        {
          "output_type": "stream",
          "name": "stdout",
          "text": [
            "Epoch 28/50\n",
            "Train Loss: 0.3486, Train Accuracy: 0.8766\n",
            "Test Loss: 0.4160, Test Accuracy: 0.8609\n",
            "\n"
          ]
        },
        {
          "output_type": "stream",
          "name": "stderr",
          "text": [
            "Epoch 29/50 - Training: 100%|██████████| 221/221 [00:16<00:00, 13.63it/s]\n",
            "Epoch 29/50 - Testing: 100%|██████████| 37/37 [00:03<00:00, 12.28it/s]\n"
          ]
        },
        {
          "output_type": "stream",
          "name": "stdout",
          "text": [
            "Epoch 29/50\n",
            "Train Loss: 0.3442, Train Accuracy: 0.8786\n",
            "Test Loss: 0.4019, Test Accuracy: 0.8621\n",
            "\n",
            "Best model saved with test accuracy: 0.8621\n",
            "\n"
          ]
        },
        {
          "output_type": "stream",
          "name": "stderr",
          "text": [
            "Epoch 30/50 - Training: 100%|██████████| 221/221 [00:16<00:00, 13.61it/s]\n",
            "Epoch 30/50 - Testing: 100%|██████████| 37/37 [00:02<00:00, 16.85it/s]\n"
          ]
        },
        {
          "output_type": "stream",
          "name": "stdout",
          "text": [
            "Epoch 30/50\n",
            "Train Loss: 0.3416, Train Accuracy: 0.8792\n",
            "Test Loss: 0.4017, Test Accuracy: 0.8624\n",
            "\n",
            "Best model saved with test accuracy: 0.8624\n",
            "\n"
          ]
        },
        {
          "output_type": "stream",
          "name": "stderr",
          "text": [
            "Epoch 31/50 - Training: 100%|██████████| 221/221 [00:16<00:00, 13.47it/s]\n",
            "Epoch 31/50 - Testing: 100%|██████████| 37/37 [00:02<00:00, 13.36it/s]\n"
          ]
        },
        {
          "output_type": "stream",
          "name": "stdout",
          "text": [
            "Epoch 31/50\n",
            "Train Loss: 0.3376, Train Accuracy: 0.8809\n",
            "Test Loss: 0.4109, Test Accuracy: 0.8616\n",
            "\n"
          ]
        },
        {
          "output_type": "stream",
          "name": "stderr",
          "text": [
            "Epoch 32/50 - Training: 100%|██████████| 221/221 [00:16<00:00, 13.57it/s]\n",
            "Epoch 32/50 - Testing: 100%|██████████| 37/37 [00:02<00:00, 17.04it/s]\n"
          ]
        },
        {
          "output_type": "stream",
          "name": "stdout",
          "text": [
            "Epoch 32/50\n",
            "Train Loss: 0.3349, Train Accuracy: 0.8814\n",
            "Test Loss: 0.3993, Test Accuracy: 0.8637\n",
            "\n",
            "Best model saved with test accuracy: 0.8637\n",
            "\n"
          ]
        },
        {
          "output_type": "stream",
          "name": "stderr",
          "text": [
            "Epoch 33/50 - Training: 100%|██████████| 221/221 [00:16<00:00, 13.29it/s]\n",
            "Epoch 33/50 - Testing: 100%|██████████| 37/37 [00:02<00:00, 14.93it/s]\n"
          ]
        },
        {
          "output_type": "stream",
          "name": "stdout",
          "text": [
            "Epoch 33/50\n",
            "Train Loss: 0.3319, Train Accuracy: 0.8819\n",
            "Test Loss: 0.3937, Test Accuracy: 0.8655\n",
            "\n",
            "Best model saved with test accuracy: 0.8655\n",
            "\n"
          ]
        },
        {
          "output_type": "stream",
          "name": "stderr",
          "text": [
            "Epoch 34/50 - Training: 100%|██████████| 221/221 [00:16<00:00, 13.61it/s]\n",
            "Epoch 34/50 - Testing: 100%|██████████| 37/37 [00:02<00:00, 17.01it/s]\n"
          ]
        },
        {
          "output_type": "stream",
          "name": "stdout",
          "text": [
            "Epoch 34/50\n",
            "Train Loss: 0.3275, Train Accuracy: 0.8833\n",
            "Test Loss: 0.3967, Test Accuracy: 0.8639\n",
            "\n"
          ]
        },
        {
          "output_type": "stream",
          "name": "stderr",
          "text": [
            "Epoch 35/50 - Training: 100%|██████████| 221/221 [00:17<00:00, 12.97it/s]\n",
            "Epoch 35/50 - Testing: 100%|██████████| 37/37 [00:02<00:00, 17.29it/s]\n"
          ]
        },
        {
          "output_type": "stream",
          "name": "stdout",
          "text": [
            "Epoch 35/50\n",
            "Train Loss: 0.3243, Train Accuracy: 0.8846\n",
            "Test Loss: 0.3968, Test Accuracy: 0.8640\n",
            "\n"
          ]
        },
        {
          "output_type": "stream",
          "name": "stderr",
          "text": [
            "Epoch 36/50 - Training: 100%|██████████| 221/221 [00:16<00:00, 13.72it/s]\n",
            "Epoch 36/50 - Testing: 100%|██████████| 37/37 [00:02<00:00, 16.76it/s]\n"
          ]
        },
        {
          "output_type": "stream",
          "name": "stdout",
          "text": [
            "Epoch 36/50\n",
            "Train Loss: 0.3227, Train Accuracy: 0.8857\n",
            "Test Loss: 0.4028, Test Accuracy: 0.8634\n",
            "\n"
          ]
        },
        {
          "output_type": "stream",
          "name": "stderr",
          "text": [
            "Epoch 37/50 - Training: 100%|██████████| 221/221 [00:16<00:00, 13.13it/s]\n",
            "Epoch 37/50 - Testing: 100%|██████████| 37/37 [00:02<00:00, 17.24it/s]\n"
          ]
        },
        {
          "output_type": "stream",
          "name": "stdout",
          "text": [
            "Epoch 37/50\n",
            "Train Loss: 0.3188, Train Accuracy: 0.8856\n",
            "Test Loss: 0.3957, Test Accuracy: 0.8648\n",
            "\n"
          ]
        },
        {
          "output_type": "stream",
          "name": "stderr",
          "text": [
            "Epoch 38/50 - Training: 100%|██████████| 221/221 [00:16<00:00, 13.53it/s]\n",
            "Epoch 38/50 - Testing: 100%|██████████| 37/37 [00:02<00:00, 17.04it/s]\n"
          ]
        },
        {
          "output_type": "stream",
          "name": "stdout",
          "text": [
            "Epoch 38/50\n",
            "Train Loss: 0.3171, Train Accuracy: 0.8865\n",
            "Test Loss: 0.3896, Test Accuracy: 0.8670\n",
            "\n",
            "Best model saved with test accuracy: 0.8670\n",
            "\n"
          ]
        },
        {
          "output_type": "stream",
          "name": "stderr",
          "text": [
            "Epoch 39/50 - Training: 100%|██████████| 221/221 [00:16<00:00, 13.32it/s]\n",
            "Epoch 39/50 - Testing: 100%|██████████| 37/37 [00:02<00:00, 17.32it/s]\n"
          ]
        },
        {
          "output_type": "stream",
          "name": "stdout",
          "text": [
            "Epoch 39/50\n",
            "Train Loss: 0.3155, Train Accuracy: 0.8867\n",
            "Test Loss: 0.3946, Test Accuracy: 0.8662\n",
            "\n"
          ]
        },
        {
          "output_type": "stream",
          "name": "stderr",
          "text": [
            "Epoch 40/50 - Training: 100%|██████████| 221/221 [00:15<00:00, 14.18it/s]\n",
            "Epoch 40/50 - Testing: 100%|██████████| 37/37 [00:02<00:00, 15.57it/s]\n"
          ]
        },
        {
          "output_type": "stream",
          "name": "stdout",
          "text": [
            "Epoch 40/50\n",
            "Train Loss: 0.3120, Train Accuracy: 0.8885\n",
            "Test Loss: 0.3906, Test Accuracy: 0.8676\n",
            "\n",
            "Best model saved with test accuracy: 0.8676\n",
            "\n"
          ]
        },
        {
          "output_type": "stream",
          "name": "stderr",
          "text": [
            "Epoch 41/50 - Training: 100%|██████████| 221/221 [00:16<00:00, 13.20it/s]\n",
            "Epoch 41/50 - Testing: 100%|██████████| 37/37 [00:02<00:00, 17.61it/s]\n"
          ]
        },
        {
          "output_type": "stream",
          "name": "stdout",
          "text": [
            "Epoch 41/50\n",
            "Train Loss: 0.3086, Train Accuracy: 0.8893\n",
            "Test Loss: 0.3887, Test Accuracy: 0.8677\n",
            "\n",
            "Best model saved with test accuracy: 0.8677\n",
            "\n"
          ]
        },
        {
          "output_type": "stream",
          "name": "stderr",
          "text": [
            "Epoch 42/50 - Training: 100%|██████████| 221/221 [00:15<00:00, 14.34it/s]\n",
            "Epoch 42/50 - Testing: 100%|██████████| 37/37 [00:02<00:00, 17.81it/s]\n"
          ]
        },
        {
          "output_type": "stream",
          "name": "stdout",
          "text": [
            "Epoch 42/50\n",
            "Train Loss: 0.3079, Train Accuracy: 0.8886\n",
            "Test Loss: 0.3949, Test Accuracy: 0.8675\n",
            "\n"
          ]
        },
        {
          "output_type": "stream",
          "name": "stderr",
          "text": [
            "Epoch 43/50 - Training: 100%|██████████| 221/221 [00:16<00:00, 13.70it/s]\n",
            "Epoch 43/50 - Testing: 100%|██████████| 37/37 [00:02<00:00, 17.75it/s]\n"
          ]
        },
        {
          "output_type": "stream",
          "name": "stdout",
          "text": [
            "Epoch 43/50\n",
            "Train Loss: 0.3063, Train Accuracy: 0.8895\n",
            "Test Loss: 0.3938, Test Accuracy: 0.8665\n",
            "\n"
          ]
        },
        {
          "output_type": "stream",
          "name": "stderr",
          "text": [
            "Epoch 44/50 - Training: 100%|██████████| 221/221 [00:15<00:00, 14.03it/s]\n",
            "Epoch 44/50 - Testing: 100%|██████████| 37/37 [00:02<00:00, 17.36it/s]\n"
          ]
        },
        {
          "output_type": "stream",
          "name": "stdout",
          "text": [
            "Epoch 44/50\n",
            "Train Loss: 0.3029, Train Accuracy: 0.8900\n",
            "Test Loss: 0.3859, Test Accuracy: 0.8660\n",
            "\n"
          ]
        },
        {
          "output_type": "stream",
          "name": "stderr",
          "text": [
            "Epoch 45/50 - Training: 100%|██████████| 221/221 [00:16<00:00, 13.54it/s]\n",
            "Epoch 45/50 - Testing: 100%|██████████| 37/37 [00:02<00:00, 17.48it/s]\n"
          ]
        },
        {
          "output_type": "stream",
          "name": "stdout",
          "text": [
            "Epoch 45/50\n",
            "Train Loss: 0.3006, Train Accuracy: 0.8913\n",
            "Test Loss: 0.3864, Test Accuracy: 0.8704\n",
            "\n",
            "Best model saved with test accuracy: 0.8704\n",
            "\n"
          ]
        },
        {
          "output_type": "stream",
          "name": "stderr",
          "text": [
            "Epoch 46/50 - Training: 100%|██████████| 221/221 [00:15<00:00, 14.20it/s]\n",
            "Epoch 46/50 - Testing: 100%|██████████| 37/37 [00:02<00:00, 17.91it/s]\n"
          ]
        },
        {
          "output_type": "stream",
          "name": "stdout",
          "text": [
            "Epoch 46/50\n",
            "Train Loss: 0.2992, Train Accuracy: 0.8917\n",
            "Test Loss: 0.3916, Test Accuracy: 0.8677\n",
            "\n"
          ]
        },
        {
          "output_type": "stream",
          "name": "stderr",
          "text": [
            "Epoch 47/50 - Training: 100%|██████████| 221/221 [00:15<00:00, 13.86it/s]\n",
            "Epoch 47/50 - Testing: 100%|██████████| 37/37 [00:02<00:00, 14.90it/s]\n"
          ]
        },
        {
          "output_type": "stream",
          "name": "stdout",
          "text": [
            "Epoch 47/50\n",
            "Train Loss: 0.2960, Train Accuracy: 0.8926\n",
            "Test Loss: 0.3878, Test Accuracy: 0.8688\n",
            "\n"
          ]
        },
        {
          "output_type": "stream",
          "name": "stderr",
          "text": [
            "Epoch 48/50 - Training: 100%|██████████| 221/221 [00:15<00:00, 14.23it/s]\n",
            "Epoch 48/50 - Testing: 100%|██████████| 37/37 [00:02<00:00, 17.77it/s]\n"
          ]
        },
        {
          "output_type": "stream",
          "name": "stdout",
          "text": [
            "Epoch 48/50\n",
            "Train Loss: 0.2943, Train Accuracy: 0.8928\n",
            "Test Loss: 0.3878, Test Accuracy: 0.8695\n",
            "\n"
          ]
        },
        {
          "output_type": "stream",
          "name": "stderr",
          "text": [
            "Epoch 49/50 - Training: 100%|██████████| 221/221 [00:15<00:00, 14.28it/s]\n",
            "Epoch 49/50 - Testing: 100%|██████████| 37/37 [00:02<00:00, 13.19it/s]\n"
          ]
        },
        {
          "output_type": "stream",
          "name": "stdout",
          "text": [
            "Epoch 49/50\n",
            "Train Loss: 0.2926, Train Accuracy: 0.8936\n",
            "Test Loss: 0.3894, Test Accuracy: 0.8688\n",
            "\n"
          ]
        },
        {
          "output_type": "stream",
          "name": "stderr",
          "text": [
            "Epoch 50/50 - Training: 100%|██████████| 221/221 [00:15<00:00, 14.19it/s]\n",
            "Epoch 50/50 - Testing: 100%|██████████| 37/37 [00:02<00:00, 17.45it/s]"
          ]
        },
        {
          "output_type": "stream",
          "name": "stdout",
          "text": [
            "Epoch 50/50\n",
            "Train Loss: 0.2909, Train Accuracy: 0.8942\n",
            "Test Loss: 0.3866, Test Accuracy: 0.8704\n",
            "\n"
          ]
        },
        {
          "output_type": "stream",
          "name": "stderr",
          "text": [
            "\n"
          ]
        }
      ],
      "source": [
        "# Assuming the model and data loaders are defined\n",
        "device = torch.device(\"cuda\" if torch.cuda.is_available() else \"cpu\")\n",
        "print(device)\n",
        "model = ConvReLUKAN()\n",
        "model.to(device)\n",
        "\n",
        "\n",
        "\n",
        "# Train and Test the model\n",
        "train_and_test(model, train_dataloader, test_dataloader, num_epochs=50, device=device)"
      ]
    },
    {
      "cell_type": "code",
      "source": [
        "labels_list=test_data.classes\n",
        "labels_list"
      ],
      "metadata": {
        "id": "maCcVNWnP4Ae",
        "colab": {
          "base_uri": "https://localhost:8080/"
        },
        "outputId": "bf30d219-2998-4ef6-cb45-e99ca3bca73c"
      },
      "id": "maCcVNWnP4Ae",
      "execution_count": 23,
      "outputs": [
        {
          "output_type": "execute_result",
          "data": {
            "text/plain": [
              "['0',\n",
              " '1',\n",
              " '2',\n",
              " '3',\n",
              " '4',\n",
              " '5',\n",
              " '6',\n",
              " '7',\n",
              " '8',\n",
              " '9',\n",
              " 'A',\n",
              " 'B',\n",
              " 'C',\n",
              " 'D',\n",
              " 'E',\n",
              " 'F',\n",
              " 'G',\n",
              " 'H',\n",
              " 'I',\n",
              " 'J',\n",
              " 'K',\n",
              " 'L',\n",
              " 'M',\n",
              " 'N',\n",
              " 'O',\n",
              " 'P',\n",
              " 'Q',\n",
              " 'R',\n",
              " 'S',\n",
              " 'T',\n",
              " 'U',\n",
              " 'V',\n",
              " 'W',\n",
              " 'X',\n",
              " 'Y',\n",
              " 'Z',\n",
              " 'a',\n",
              " 'b',\n",
              " 'd',\n",
              " 'e',\n",
              " 'f',\n",
              " 'g',\n",
              " 'h',\n",
              " 'n',\n",
              " 'q',\n",
              " 'r',\n",
              " 't']"
            ]
          },
          "metadata": {},
          "execution_count": 23
        }
      ]
    },
    {
      "cell_type": "code",
      "source": [
        "best_model = ConvReLUKAN()\n",
        "best_model.load_state_dict(torch.load('7layersrelukan16g4k.pth', weights_only= True))\n",
        "y_preds = []\n",
        "best_model.to(device)\n",
        "best_model.eval()\n",
        "with torch.inference_mode():\n",
        "  for X, y in tqdm(test_dataloader, desc=\"Making predictions\"):\n",
        "    # Send data and targets to target device\n",
        "    X, y = X.to(device), y.to(device)\n",
        "    # Do the forward pass\n",
        "    y_logit = best_model(X)\n",
        "    # Turn predictions from logits -> prediction probabilities -> predictions labels\n",
        "    y_pred = torch.softmax(y_logit, dim=1).argmax(dim=1) # note: perform softmax on the \"logits\" dimension, not \"batch\" dimension (in this case we have a batch size of 32, so can perform on dim=1)\n",
        "    # Put predictions on CPU for evaluation\n",
        "    y_preds.append(y_pred.cpu())\n",
        "# Concatenate list of predictions into a tensor\n",
        "y_pred_tensor = torch.cat(y_preds)"
      ],
      "metadata": {
        "colab": {
          "base_uri": "https://localhost:8080/"
        },
        "id": "d4y7UFlNQYQ_",
        "outputId": "161c8ad7-2704-42bd-f0b1-9d0469e0340c"
      },
      "id": "d4y7UFlNQYQ_",
      "execution_count": 24,
      "outputs": [
        {
          "output_type": "stream",
          "name": "stderr",
          "text": [
            "Making predictions: 100%|██████████| 37/37 [00:02<00:00, 15.15it/s]\n"
          ]
        }
      ]
    },
    {
      "cell_type": "code",
      "source": [
        "try:\n",
        "    import torchmetrics, mlxtend\n",
        "    print(f\"mlxtend version: {mlxtend.__version__}\")\n",
        "    assert int(mlxtend.__version__.split(\".\")[1]) >= 19, \"mlxtend verison should be 0.19.0 or higher\"\n",
        "except:\n",
        "    !pip install -q torchmetrics -U mlxtend # <- Note: If you're using Google Colab, this may require restarting the runtime\n",
        "    import torchmetrics, mlxtend\n",
        "    print(f\"mlxtend version: {mlxtend.__version__}\")\n",
        "\n",
        "import mlxtend\n",
        "print(mlxtend.__version__)\n",
        "assert int(mlxtend.__version__.split(\".\")[1]) >= 19 # should be version 0.19.0 or higher\n",
        "\n",
        "from torchmetrics import ConfusionMatrix\n",
        "from mlxtend.plotting import plot_confusion_matrix\n",
        "\n",
        "# 2. Setup confusion matrix instance and compare predictions to targets\n",
        "\n",
        "all_targets = []\n",
        "for _, label in test_data:\n",
        "    all_targets.append(label)\n",
        "all_targets = torch.tensor(all_targets)\n",
        "\n",
        "# Ensure preds is a tensor\n",
        "y_pred_tensor = torch.tensor(y_pred_tensor)\n",
        "print(len(all_targets)/16)\n",
        "# Setup the confusion matrix instance and compare predictions to targets\n",
        "confmat = ConfusionMatrix(num_classes=len(labels_list), task='multiclass')\n",
        "confmat_tensor = confmat(preds=y_pred_tensor, target=all_targets)\n",
        "\n",
        "# Plot the confusion matrix\n",
        "fig, ax = plot_confusion_matrix(\n",
        "    conf_mat=confmat_tensor.numpy(),  # matplotlib likes working with NumPy\n",
        "    class_names=labels_list,  # turn the row and column labels into class names\n",
        "    figsize=(30, 30)\n",
        ")"
      ],
      "metadata": {
        "colab": {
          "base_uri": "https://localhost:8080/",
          "height": 1000
        },
        "id": "VFr7gBqCRIDR",
        "outputId": "1c2e3b8d-5385-44b6-a2ed-b84d8007c5d7"
      },
      "id": "VFr7gBqCRIDR",
      "execution_count": 25,
      "outputs": [
        {
          "output_type": "stream",
          "name": "stdout",
          "text": [
            "\u001b[?25l   \u001b[90m━━━━━━━━━━━━━━━━━━━━━━━━━━━━━━━━━━━━━━━━\u001b[0m \u001b[32m0.0/869.2 kB\u001b[0m \u001b[31m?\u001b[0m eta \u001b[36m-:--:--\u001b[0m\r\u001b[2K   \u001b[91m━━━━━━━━━━━━━━━━━━━━━━━━━━━━━━━━━━━━━━━\u001b[0m\u001b[91m╸\u001b[0m \u001b[32m860.2/869.2 kB\u001b[0m \u001b[31m35.5 MB/s\u001b[0m eta \u001b[36m0:00:01\u001b[0m\r\u001b[2K   \u001b[90m━━━━━━━━━━━━━━━━━━━━━━━━━━━━━━━━━━━━━━━━\u001b[0m \u001b[32m869.2/869.2 kB\u001b[0m \u001b[31m22.7 MB/s\u001b[0m eta \u001b[36m0:00:00\u001b[0m\n",
            "\u001b[?25hmlxtend version: 0.23.1\n",
            "0.23.1\n"
          ]
        },
        {
          "output_type": "stream",
          "name": "stderr",
          "text": [
            "<ipython-input-25-514a19b8f8a8>:25: UserWarning: To copy construct from a tensor, it is recommended to use sourceTensor.clone().detach() or sourceTensor.clone().detach().requires_grad_(True), rather than torch.tensor(sourceTensor).\n",
            "  y_pred_tensor = torch.tensor(y_pred_tensor)\n"
          ]
        },
        {
          "output_type": "stream",
          "name": "stdout",
          "text": [
            "1175.0\n"
          ]
        },
        {
          "output_type": "display_data",
          "data": {
            "text/plain": [
              "<Figure size 3000x3000 with 1 Axes>"
            ],
            "image/png": "[encoded data removed]"
          },
          "metadata": {}
        }
      ]
    },
    {
      "cell_type": "code",
      "source": [
        "pytorch_total_params = sum(p.numel() for p in best_model.parameters() if p.requires_grad)\n",
        "print(pytorch_total_params)"
      ],
      "metadata": {
        "colab": {
          "base_uri": "https://localhost:8080/"
        },
        "id": "TZrsXVL7RRmE",
        "outputId": "ed49885a-7516-444a-ce4a-c4e4f5de819c"
      },
      "id": "TZrsXVL7RRmE",
      "execution_count": 26,
      "outputs": [
        {
          "output_type": "stream",
          "name": "stdout",
          "text": [
            "47359\n"
          ]
        }
      ]
    },
    {
      "cell_type": "code",
      "source": [
        "best_model"
      ],
      "metadata": {
        "id": "W16bCdnuRcF4"
      },
      "id": "W16bCdnuRcF4",
      "execution_count": null,
      "outputs": []
    }
  ],
  "metadata": {
    "accelerator": "GPU",
    "colab": {
      "gpuType": "T4",
      "provenance": [],
      "include_colab_link": true
    },
    "kernelspec": {
      "display_name": "Python 3 (ipykernel)",
      "language": "python",
      "name": "python3"
    },
    "language_info": {
      "codemirror_mode": {
        "name": "ipython",
        "version": 3
      },
      "file_extension": ".py",
      "mimetype": "text/x-python",
      "name": "python",
      "nbconvert_exporter": "python",
      "pygments_lexer": "ipython3",
      "version": "3.11.5"
    }
  },
  "nbformat": 4,
  "nbformat_minor": 5
}